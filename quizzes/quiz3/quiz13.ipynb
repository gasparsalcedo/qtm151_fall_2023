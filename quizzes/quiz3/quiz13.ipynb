{
 "cells": [
  {
   "attachments": {},
   "cell_type": "markdown",
   "metadata": {},
   "source": [
    "# <span style=\"color:darkblue\"> QTM 151 - Quiz 3 </span>"
   ]
  },
  {
   "attachments": {},
   "cell_type": "markdown",
   "metadata": {},
   "source": [
    "## Try to submit as an HTML file"
   ]
  },
  {
   "attachments": {},
   "cell_type": "markdown",
   "metadata": {},
   "source": [
    "<font size=\"5\"> \n",
    "\n",
    "Print your Emory ID as a string below"
   ]
  },
  {
   "cell_type": "code",
   "execution_count": 2,
   "metadata": {},
   "outputs": [
    {
     "name": "stdout",
     "output_type": "stream",
     "text": [
      "GSALCED\n"
     ]
    }
   ],
   "source": [
    "# Write your answer here\n",
    "print('GSALCED')"
   ]
  },
  {
   "attachments": {},
   "cell_type": "markdown",
   "metadata": {},
   "source": [
    "<font size = \"5\" >\n",
    "This quiz is open book \n",
    "\n",
    "- You can use the lecture notes and the internet\n",
    "- You will get partial credit for attempting the questions\n",
    "- To get full credit, the code should run as intended\n",
    "- You should <span style=\"color:red\"> NOT </span> communicate with other students\n",
    "\n",
    "Print the following message: <br>\n",
    "\n",
    "\"I will abide by Emory's code of conduct\"\n",
    "\n",
    "\n",
    "**By printing the message, you acknowledge that you will abide by Emory's code of conduct.**"
   ]
  },
  {
   "cell_type": "code",
   "execution_count": 3,
   "metadata": {},
   "outputs": [
    {
     "name": "stdout",
     "output_type": "stream",
     "text": [
      "I will abide by Emory's code of conduct\n"
     ]
    }
   ],
   "source": [
    "# Write your answer here:\n",
    "print(\"I will abide by Emory's code of conduct\")"
   ]
  },
  {
   "attachments": {},
   "cell_type": "markdown",
   "metadata": {},
   "source": [
    "<font size = \"5\">\n",
    "\n",
    "Import the libraries \"numpy\" and \"pandas\""
   ]
  },
  {
   "cell_type": "code",
   "execution_count": 7,
   "metadata": {},
   "outputs": [],
   "source": [
    "# Write your answer here\n",
    "import numpy as np\n",
    "import pandas as pd"
   ]
  },
  {
   "attachments": {},
   "cell_type": "markdown",
   "metadata": {},
   "source": [
    "\n",
    "<font size = \"5\">\n",
    "\n",
    "(a) Replace the values of a column\n",
    "\n",
    "<font size = \"3\">\n",
    "\n",
    "- Import the \"data_raw/sprint_results.csv\" file\n",
    "- Print the list with the unique values that are not numeric in the column \"positionText\"\n",
    "- Replace the non-numerica values (\"R\" and \"N\") with ```np.nan``` (missing value) in the column \"positionText\"\n",
    "- Create a new column \"positionNumeric\" that converts the modified \"positionText\" column from string to numeric using ```pd.to_numeric()```\n",
    "\n",
    "HINT: See the example in Lecture 12"
   ]
  },
  {
   "cell_type": "code",
   "execution_count": 32,
   "metadata": {},
   "outputs": [
    {
     "name": "stdout",
     "output_type": "stream",
     "text": [
      "['R' 'N']\n",
      "0       1.0\n",
      "1       2.0\n",
      "2       3.0\n",
      "3       4.0\n",
      "4       5.0\n",
      "       ... \n",
      "115    16.0\n",
      "116    17.0\n",
      "117    18.0\n",
      "118    19.0\n",
      "119     NaN\n",
      "Name: positionNumeric, Length: 120, dtype: float64\n"
     ]
    }
   ],
   "source": [
    "# Write your own code\n",
    "results = pd.read_csv('data_raw/sprint_results.csv')\n",
    "non_num_df = results[results['positionText'].str.isnumeric() == False]\n",
    "non_num = non_num_df['positionText'].unique()\n",
    "print(non_num)\n",
    "old=['R' 'N']\n",
    "new = np.nan\n",
    "values_to_replace = ['R', 'N']\n",
    "results['positionText'] = results['positionText'].replace(values_to_replace, np.nan)\n",
    "results['positionNumeric'] = pd.to_numeric(results['positionText'])\n",
    "print(results['positionNumeric'])"
   ]
  },
  {
   "attachments": {},
   "cell_type": "markdown",
   "metadata": {},
   "source": [
    "<font size = \"5\">\n",
    "\n",
    "(b) Recode a numeric colum\n",
    "\n",
    "<font size = \"3\">\n",
    "\n",
    "- Import the \"data_raw/races.csv\" file\n",
    "- Recode the \"year\" column into a new column \"year_brackets\" with the following categories\n",
    "\n",
    "$\\qquad$ ``` [\"1950-1974\",\"1975-1999\",\"2000-onwards\"] ```\n",
    "\n",
    "- Display the new \"year_brackets\" variable\n",
    "\n",
    "$\\qquad$ HINT: Use the \"pd.cut()\" command. See Lecture 12 (check the note in the example!)"
   ]
  },
  {
   "cell_type": "code",
   "execution_count": 38,
   "metadata": {},
   "outputs": [
    {
     "data": {
      "text/html": [
       "<div>\n",
       "<style scoped>\n",
       "    .dataframe tbody tr th:only-of-type {\n",
       "        vertical-align: middle;\n",
       "    }\n",
       "\n",
       "    .dataframe tbody tr th {\n",
       "        vertical-align: top;\n",
       "    }\n",
       "\n",
       "    .dataframe thead th {\n",
       "        text-align: right;\n",
       "    }\n",
       "</style>\n",
       "<table border=\"1\" class=\"dataframe\">\n",
       "  <thead>\n",
       "    <tr style=\"text-align: right;\">\n",
       "      <th></th>\n",
       "      <th>year_breckets</th>\n",
       "      <th>year</th>\n",
       "    </tr>\n",
       "  </thead>\n",
       "  <tbody>\n",
       "    <tr>\n",
       "      <th>0</th>\n",
       "      <td>2000-onwards</td>\n",
       "      <td>2009</td>\n",
       "    </tr>\n",
       "    <tr>\n",
       "      <th>1</th>\n",
       "      <td>2000-onwards</td>\n",
       "      <td>2009</td>\n",
       "    </tr>\n",
       "    <tr>\n",
       "      <th>2</th>\n",
       "      <td>2000-onwards</td>\n",
       "      <td>2009</td>\n",
       "    </tr>\n",
       "    <tr>\n",
       "      <th>3</th>\n",
       "      <td>2000-onwards</td>\n",
       "      <td>2009</td>\n",
       "    </tr>\n",
       "    <tr>\n",
       "      <th>4</th>\n",
       "      <td>2000-onwards</td>\n",
       "      <td>2009</td>\n",
       "    </tr>\n",
       "    <tr>\n",
       "      <th>...</th>\n",
       "      <td>...</td>\n",
       "      <td>...</td>\n",
       "    </tr>\n",
       "    <tr>\n",
       "      <th>1097</th>\n",
       "      <td>2000-onwards</td>\n",
       "      <td>2023</td>\n",
       "    </tr>\n",
       "    <tr>\n",
       "      <th>1098</th>\n",
       "      <td>2000-onwards</td>\n",
       "      <td>2023</td>\n",
       "    </tr>\n",
       "    <tr>\n",
       "      <th>1099</th>\n",
       "      <td>2000-onwards</td>\n",
       "      <td>2023</td>\n",
       "    </tr>\n",
       "    <tr>\n",
       "      <th>1100</th>\n",
       "      <td>2000-onwards</td>\n",
       "      <td>2023</td>\n",
       "    </tr>\n",
       "    <tr>\n",
       "      <th>1101</th>\n",
       "      <td>2000-onwards</td>\n",
       "      <td>2023</td>\n",
       "    </tr>\n",
       "  </tbody>\n",
       "</table>\n",
       "<p>1102 rows × 2 columns</p>\n",
       "</div>"
      ],
      "text/plain": [
       "     year_breckets  year\n",
       "0     2000-onwards  2009\n",
       "1     2000-onwards  2009\n",
       "2     2000-onwards  2009\n",
       "3     2000-onwards  2009\n",
       "4     2000-onwards  2009\n",
       "...            ...   ...\n",
       "1097  2000-onwards  2023\n",
       "1098  2000-onwards  2023\n",
       "1099  2000-onwards  2023\n",
       "1100  2000-onwards  2023\n",
       "1101  2000-onwards  2023\n",
       "\n",
       "[1102 rows x 2 columns]"
      ]
     },
     "execution_count": 38,
     "metadata": {},
     "output_type": "execute_result"
    }
   ],
   "source": [
    "# Write your own code\n",
    "races = pd.read_csv('data_raw/races.csv')\n",
    "\n",
    "bins = [1949, 1974, 1999, 100000]\n",
    "labels = [\"1950-1974\",\"1975-1999\",\"2000-onwards\"]\n",
    "races['year_breckets'] = pd.cut(races['year'],\n",
    "                                  bins=bins, labels=labels, right=False, include_lowest=True)\n",
    "races[['year_breckets','year']]\n"
   ]
  },
  {
   "attachments": {},
   "cell_type": "markdown",
   "metadata": {},
   "source": [
    "<font size = \"5\">\n",
    "\n",
    "(c) Aggregate and query\n",
    "\n",
    "<font size = \"3\">\n",
    "\n",
    "- Import the \"data_raw/sprint_results.csv\" file\n",
    "- Subset the observations for 'constructorId == 3' using ```.query()```\n",
    "- Obtain the sum of \"laps\" by \"driverId\" using ``` .groupby().agg() ```\n",
    "- Subset the drivers with a sum of laps $\\ge 40$\n",
    "- Store the results of all these operations in a dataframe ```sprint_results_agg ```\n",
    "- Display the ```sprint_results_agg``` dataframe\n",
    "- Provide a one-sentence explanation of the information in the ```sprint_results_agg ``` table"
   ]
  },
  {
   "cell_type": "code",
   "execution_count": 40,
   "metadata": {},
   "outputs": [
    {
     "name": "stdout",
     "output_type": "stream",
     "text": [
      "          laps\n",
      "driverId      \n",
      "847         59\n",
      "848         56\n",
      "849        127\n",
      "The 'sprint_results_agg' table displays the total number of laps completed by each driver (where 'constructorId' is 3) who has completed 40 or more laps.\n"
     ]
    }
   ],
   "source": [
    "# Write your own code\n",
    "results = pd.read_csv('data_raw/sprint_results.csv')\n",
    "sprint_results_agg = results.query('constructorId == 3').groupby('driverId').agg({'laps': 'sum'}).query('laps >= 40')\n",
    "print(sprint_results_agg)\n",
    "\n",
    "explanation = \"The 'sprint_results_agg' table displays the total number of laps completed by each driver (where 'constructorId' is 3) who has completed 40 or more laps.\"\n",
    "print(explanation)"
   ]
  },
  {
   "attachments": {},
   "cell_type": "markdown",
   "metadata": {},
   "source": [
    "<font size = \"5\">\n",
    "\n",
    "(d) Aggregate and sort\n",
    "\n",
    "<font size = \"3\">\n",
    "\n",
    "- Import the \"data_raw/sprint_results.csv\" file\n",
    "- Obtain the sum of \"laps\" by \"driverId\" using ``` .groupby().agg() ```\n",
    "- Sort the teams in descending order using of the sum of laps using ``` .sort_values() ```\n",
    "- Display your results"
   ]
  },
  {
   "cell_type": "code",
   "execution_count": 43,
   "metadata": {},
   "outputs": [
    {
     "data": {
      "text/html": [
       "<div>\n",
       "<style scoped>\n",
       "    .dataframe tbody tr th:only-of-type {\n",
       "        vertical-align: middle;\n",
       "    }\n",
       "\n",
       "    .dataframe tbody tr th {\n",
       "        vertical-align: top;\n",
       "    }\n",
       "\n",
       "    .dataframe thead th {\n",
       "        text-align: right;\n",
       "    }\n",
       "</style>\n",
       "<table border=\"1\" class=\"dataframe\">\n",
       "  <thead>\n",
       "    <tr style=\"text-align: right;\">\n",
       "      <th></th>\n",
       "      <th>laps</th>\n",
       "    </tr>\n",
       "    <tr>\n",
       "      <th>driverId</th>\n",
       "      <th></th>\n",
       "    </tr>\n",
       "  </thead>\n",
       "  <tbody>\n",
       "    <tr>\n",
       "      <th>1</th>\n",
       "      <td>127</td>\n",
       "    </tr>\n",
       "    <tr>\n",
       "      <th>832</th>\n",
       "      <td>127</td>\n",
       "    </tr>\n",
       "    <tr>\n",
       "      <th>854</th>\n",
       "      <td>127</td>\n",
       "    </tr>\n",
       "    <tr>\n",
       "      <th>852</th>\n",
       "      <td>127</td>\n",
       "    </tr>\n",
       "    <tr>\n",
       "      <th>849</th>\n",
       "      <td>127</td>\n",
       "    </tr>\n",
       "    <tr>\n",
       "      <th>847</th>\n",
       "      <td>127</td>\n",
       "    </tr>\n",
       "    <tr>\n",
       "      <th>846</th>\n",
       "      <td>127</td>\n",
       "    </tr>\n",
       "    <tr>\n",
       "      <th>844</th>\n",
       "      <td>127</td>\n",
       "    </tr>\n",
       "    <tr>\n",
       "      <th>839</th>\n",
       "      <td>127</td>\n",
       "    </tr>\n",
       "    <tr>\n",
       "      <th>840</th>\n",
       "      <td>127</td>\n",
       "    </tr>\n",
       "    <tr>\n",
       "      <th>830</th>\n",
       "      <td>127</td>\n",
       "    </tr>\n",
       "    <tr>\n",
       "      <th>822</th>\n",
       "      <td>127</td>\n",
       "    </tr>\n",
       "    <tr>\n",
       "      <th>817</th>\n",
       "      <td>127</td>\n",
       "    </tr>\n",
       "    <tr>\n",
       "      <th>815</th>\n",
       "      <td>126</td>\n",
       "    </tr>\n",
       "    <tr>\n",
       "      <th>20</th>\n",
       "      <td>125</td>\n",
       "    </tr>\n",
       "    <tr>\n",
       "      <th>842</th>\n",
       "      <td>109</td>\n",
       "    </tr>\n",
       "    <tr>\n",
       "      <th>4</th>\n",
       "      <td>104</td>\n",
       "    </tr>\n",
       "    <tr>\n",
       "      <th>825</th>\n",
       "      <td>68</td>\n",
       "    </tr>\n",
       "    <tr>\n",
       "      <th>841</th>\n",
       "      <td>59</td>\n",
       "    </tr>\n",
       "    <tr>\n",
       "      <th>853</th>\n",
       "      <td>59</td>\n",
       "    </tr>\n",
       "    <tr>\n",
       "      <th>848</th>\n",
       "      <td>56</td>\n",
       "    </tr>\n",
       "    <tr>\n",
       "      <th>855</th>\n",
       "      <td>47</td>\n",
       "    </tr>\n",
       "    <tr>\n",
       "      <th>8</th>\n",
       "      <td>41</td>\n",
       "    </tr>\n",
       "    <tr>\n",
       "      <th>9</th>\n",
       "      <td>18</td>\n",
       "    </tr>\n",
       "  </tbody>\n",
       "</table>\n",
       "</div>"
      ],
      "text/plain": [
       "          laps\n",
       "driverId      \n",
       "1          127\n",
       "832        127\n",
       "854        127\n",
       "852        127\n",
       "849        127\n",
       "847        127\n",
       "846        127\n",
       "844        127\n",
       "839        127\n",
       "840        127\n",
       "830        127\n",
       "822        127\n",
       "817        127\n",
       "815        126\n",
       "20         125\n",
       "842        109\n",
       "4          104\n",
       "825         68\n",
       "841         59\n",
       "853         59\n",
       "848         56\n",
       "855         47\n",
       "8           41\n",
       "9           18"
      ]
     },
     "execution_count": 43,
     "metadata": {},
     "output_type": "execute_result"
    }
   ],
   "source": [
    "# Write your own code\n",
    "results = pd.read_csv('data_raw/sprint_results.csv')\n",
    "laps_sum = results.groupby('driverId').agg({'laps': 'sum'})\n",
    "sorted_laps = laps_sum.sort_values('laps', ascending=False)\n",
    "sorted_laps\n"
   ]
  },
  {
   "attachments": {},
   "cell_type": "markdown",
   "metadata": {},
   "source": [
    "<font size = \"5\">\n",
    "\n",
    "(e) Rename column\n",
    "\n",
    "<font size = \"3\">\n",
    "\n",
    "- Import the \"data_raw/sprint_results.csv\" file\n",
    "- Rename the column \"points\" to \"points_sprint\"\n",
    "- Display the dataframe columns\n",
    "\n",
    "HINT: Create a dictionary and use ```.rename(columns = ...)``` See Lecture 14"
   ]
  },
  {
   "cell_type": "code",
   "execution_count": 44,
   "metadata": {},
   "outputs": [
    {
     "name": "stdout",
     "output_type": "stream",
     "text": [
      "Index(['resultId', 'raceId', 'driverId', 'constructorId', 'number', 'grid',\n",
      "       'position', 'positionText', 'positionOrder', 'points_sprint', 'laps',\n",
      "       'time', 'milliseconds', 'fastestLap', 'fastestLapTime', 'statusId'],\n",
      "      dtype='object')\n"
     ]
    }
   ],
   "source": [
    "# Write your own code\n",
    "results = pd.read_csv('data_raw/sprint_results.csv')\n",
    "rename_dict = {'points': 'points_sprint'}\n",
    "\n",
    "results.rename(columns=rename_dict, inplace=True)\n",
    "\n",
    "print(results.columns)\n"
   ]
  },
  {
   "attachments": {},
   "cell_type": "markdown",
   "metadata": {},
   "source": [
    "<font size = \"5\">\n",
    "\n",
    "(f) Merge dataset\n",
    "\n",
    "<font size = \"3\">\n",
    "\n",
    "- Import the \"data_raw/sprint_results.csv\" and \"data_raw/constructors.csv\" files\n",
    "- Create a new dataset with  ```pd.merge()``` using \"sprint_results\" as the primary dataset (left), and \"constructors\" as the secondary dataset (right), merging on the column \"constructorId\"\n",
    "- To get full points **ONLY** merge the \"url\" column from the secondary dataset (not all the columns)\n",
    "- Display the resulting dataframe \n",
    "\n",
    "\n",
    "HINT: Use ```[[...]]``` to extract a subset of columns from the secondary dataset before merging, including the \"constructorId\" column"
   ]
  },
  {
   "cell_type": "code",
   "execution_count": 45,
   "metadata": {},
   "outputs": [
    {
     "name": "stdout",
     "output_type": "stream",
     "text": [
      "   resultId  raceId  driverId  constructorId  number  grid position  \\\n",
      "0         1    1061       830              9      33     2        1   \n",
      "1         2    1061         1            131      44     1        2   \n",
      "2         3    1061       822            131      77     3        3   \n",
      "3         4    1061       844              6      16     4        4   \n",
      "4         5    1061       846              1       4     6        5   \n",
      "\n",
      "  positionText  positionOrder  points  laps       time milliseconds  \\\n",
      "0            1              1       3    17  25:38.426      1538426   \n",
      "1            2              2       2    17     +1.430      1539856   \n",
      "2            3              3       1    17     +7.502      1545928   \n",
      "3            4              4       0    17    +11.278      1549704   \n",
      "4            5              5       0    17    +24.111      1562537   \n",
      "\n",
      "  fastestLap fastestLapTime  statusId  \\\n",
      "0         14       1:30.013         1   \n",
      "1         17       1:29.937         1   \n",
      "2         17       1:29.958         1   \n",
      "3         16       1:30.163         1   \n",
      "4         16       1:30.566         1   \n",
      "\n",
      "                                                 url  \n",
      "0       http://en.wikipedia.org/wiki/Red_Bull_Racing  \n",
      "1  http://en.wikipedia.org/wiki/Mercedes-Benz_in_...  \n",
      "2  http://en.wikipedia.org/wiki/Mercedes-Benz_in_...  \n",
      "3      http://en.wikipedia.org/wiki/Scuderia_Ferrari  \n",
      "4               http://en.wikipedia.org/wiki/McLaren  \n"
     ]
    }
   ],
   "source": [
    "# Write your own code\n",
    "\n",
    "results = pd.read_csv('data_raw/sprint_results.csv')\n",
    "constructors = pd.read_csv('data_raw/constructors.csv')\n",
    "\n",
    "constructors_subset = constructors[['constructorId', 'url']]\n",
    "\n",
    "merged = pd.merge(results, constructors_subset, on='constructorId', how='left')\n",
    "\n",
    "print(merged.head()) \n"
   ]
  }
 ],
 "metadata": {
  "kernelspec": {
   "display_name": "base",
   "language": "python",
   "name": "python3"
  },
  "language_info": {
   "codemirror_mode": {
    "name": "ipython",
    "version": 3
   },
   "file_extension": ".py",
   "mimetype": "text/x-python",
   "name": "python",
   "nbconvert_exporter": "python",
   "pygments_lexer": "ipython3",
   "version": "3.11.4"
  },
  "orig_nbformat": 4,
  "vscode": {
   "interpreter": {
    "hash": "45fc1f684f6f416f40889115beff3ddf69879b64cf4bfee48cb72a61e9d15d1a"
   }
  }
 },
 "nbformat": 4,
 "nbformat_minor": 2
}
